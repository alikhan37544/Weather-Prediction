{
  "nbformat": 4,
  "nbformat_minor": 0,
  "metadata": {
    "colab": {
      "provenance": []
    },
    "kernelspec": {
      "name": "python3",
      "display_name": "Python 3"
    },
    "language_info": {
      "name": "python"
    }
  },
  "cells": [
    {
      "cell_type": "code",
      "execution_count": null,
      "metadata": {
        "id": "gjhbxKuqECII"
      },
      "outputs": [],
      "source": [
        "## Importing all the algorithm Libraries\n",
        "\n",
        "# Note:1. All the algorithms accept numpy nd arrays\n",
        "#      2. They also need \"integer\" data type\n",
        "#         Float counts as a continuous data type\n",
        "#         Hence we also need to process the dataset\n",
        "\n",
        "\n",
        "import numpy as np\n",
        "import pandas as pd\n",
        "from sklearn                        import metrics, svm\n",
        "from sklearn.linear_model           import LinearRegression\n",
        "from sklearn.linear_model           import LogisticRegression\n",
        "from sklearn.tree                   import DecisionTreeClassifier\n",
        "from sklearn.neighbors              import KNeighborsClassifier\n",
        "from sklearn.discriminant_analysis  import LinearDiscriminantAnalysis\n",
        "from sklearn.naive_bayes            import GaussianNB\n",
        "from sklearn.svm                    import SVC\n",
        "\n",
        "from sklearn.linear_model import Ridge\n",
        "from sklearn.linear_model import BayesianRidge\n",
        "from sklearn.linear_model import GammaRegressor\n",
        "from sklearn.linear_model import HuberRegressor\n",
        "from sklearn.linear_model import PassiveAggressiveRegressor\n",
        "from sklearn.linear_model import SGDRegressor\n",
        "from sklearn.linear_model import TweedieRegressor\n",
        "\n",
        "\n",
        "\n"
      ]
    },
    {
      "cell_type": "code",
      "source": [
        "df = pd.read_csv(\"Kaggle weather dataset.csv\")"
      ],
      "metadata": {
        "id": "2FWfsIIOJJvj"
      },
      "execution_count": null,
      "outputs": []
    },
    {
      "cell_type": "code",
      "source": [
        "df.head()"
      ],
      "metadata": {
        "id": "nuZzQcoVUGOh"
      },
      "execution_count": null,
      "outputs": []
    },
    {
      "cell_type": "code",
      "source": [
        "# Dropping all null values: \n",
        "df = df.dropna()\n",
        "\n",
        "# Changing the 2 precipitation values to 0 and 1\n",
        "df['Precip Type'] = df[\"Precip Type\"].replace(['rain', 'snow'],[0,1])\n",
        "\n",
        "# Removing all the tables that are not needed\n",
        "df.pop('Formatted Date')\n",
        "df.pop(\"Summary\")\n",
        "df.pop(\"Daily Summary\")\n",
        "df.pop(\"Loud Cover\")\n",
        "df.pop(\"Apparent Temperature (C)\")\n",
        "\n",
        "# Getting our Label so we can train for finding that\n",
        "Label = df.pop(\"Temperature (C)\")\n",
        "\n",
        "\n",
        "\n"
      ],
      "metadata": {
        "id": "9p8j_-sIN0PO"
      },
      "execution_count": null,
      "outputs": []
    },
    {
      "cell_type": "code",
      "source": [
        "type(Label)\n",
        "Label = Label.mul(100)\n",
        "Label = Label.astype(int)"
      ],
      "metadata": {
        "id": "UKj07dcotWx5"
      },
      "execution_count": null,
      "outputs": []
    },
    {
      "cell_type": "code",
      "source": [
        "type(df)"
      ],
      "metadata": {
        "id": "5HvQBRtCePew"
      },
      "execution_count": null,
      "outputs": []
    },
    {
      "cell_type": "code",
      "source": [
        "# Humidity, Wind Speed, Visibility and Pressure is multiplied by 100 to remove the int\n",
        "df['Humidity'] = df['Humidity'].mul(100)\n",
        "df['Wind Speed (km/h)'] = df['Wind Speed (km/h)'].mul(100)\n",
        "df['Visibility (km)'] = df['Visibility (km)'].mul(100)\n",
        "df['Pressure (millibars)'] = df['Pressure (millibars)'].mul(100)"
      ],
      "metadata": {
        "id": "LnMPOSNYePKm"
      },
      "execution_count": null,
      "outputs": []
    },
    {
      "cell_type": "code",
      "source": [
        "df.head()"
      ],
      "metadata": {
        "id": "LQ9zij_qaNRA"
      },
      "execution_count": null,
      "outputs": []
    },
    {
      "cell_type": "code",
      "source": [
        "df = df.astype(int)"
      ],
      "metadata": {
        "id": "BVV-QOLWfYCx"
      },
      "execution_count": null,
      "outputs": []
    },
    {
      "cell_type": "code",
      "source": [
        "df.head()"
      ],
      "metadata": {
        "id": "AWoUHr5NhJUx"
      },
      "execution_count": null,
      "outputs": []
    },
    {
      "cell_type": "code",
      "source": [
        "# Making the Train Test Split\n",
        "Feature = df.to_numpy()\n",
        "from sklearn.model_selection import train_test_split as tts\n",
        "x_train, x_test, y_train, y_test = tts(Feature,Label,test_size=0.30,random_state=10)\n",
        "\n",
        "\n"
      ],
      "metadata": {
        "id": "4GvsghFSQWS9"
      },
      "execution_count": null,
      "outputs": []
    },
    {
      "cell_type": "code",
      "source": [
        "from sklearn.metrics import mean_absolute_error,mean_squared_error\n",
        "## Linear Regression\n",
        "linear_regression = LinearRegression()\n",
        "linear_regression.fit(x_train,y_train)\n",
        "y_pred = linear_regression.predict(x_test)\n",
        "print(linear_regression.score(x_test,y_test))\n",
        "\n"
      ],
      "metadata": {
        "id": "nBQjWm85fyDe"
      },
      "execution_count": null,
      "outputs": []
    },
    {
      "cell_type": "code",
      "source": [
        "err = mean_squared_error(y_test,y_pred)\n",
        "print(err)\n",
        "print(np.sqrt(err))\n",
        "print(mean_absolute_error(y_test,y_pred))"
      ],
      "metadata": {
        "id": "WFLTW4udj-ns"
      },
      "execution_count": null,
      "outputs": []
    },
    {
      "cell_type": "code",
      "source": [
        "## Logistic Regression\n",
        "logistic_regression = LogisticRegression()\n",
        "logistic_regression.fit(x_train,y_train)\n",
        "y_pred = linear_regression.predict(x_test)\n",
        "print(logistic_regression.score(x_test,y_test))\n",
        "\n"
      ],
      "metadata": {
        "id": "yhNhVcZAkNdR"
      },
      "execution_count": null,
      "outputs": []
    },
    {
      "cell_type": "code",
      "source": [
        "# ## Decision Tree Classifier\n",
        "# decision_tree_classifier = DecisionTreeClassifier()\n",
        "# decision_tree_classifier.fit(x_train,y_train)\n",
        "# y_pred = decision_tree_classifier(x_test)\n",
        "# print(decision_tree_classifier.score(x_test,y_test))"
      ],
      "metadata": {
        "id": "Qgg-5GS-mrbc"
      },
      "execution_count": null,
      "outputs": []
    },
    {
      "cell_type": "code",
      "source": [
        "# ## KNeighbour Classifier\n",
        "# k_neighbours_classifier = KNeighborsClassifier()\n",
        "# k_neighbours_classifier.fit(x_test,y_test)\n",
        "# y_pred = k_neighbours_classifier(x_test)\n",
        "# print(k_neighbours_classifier.score(x_test,y_test))"
      ],
      "metadata": {
        "id": "EO1yfH5YnIq_"
      },
      "execution_count": null,
      "outputs": []
    },
    {
      "cell_type": "code",
      "source": [
        "# Ridge\n",
        "ridge = Ridge()\n",
        "ridge.fit(x_train,y_train)\n",
        "y_pred = ridge.predict(x_test)\n",
        "print(ridge.score(x_test,y_test))"
      ],
      "metadata": {
        "colab": {
          "base_uri": "https://localhost:8080/"
        },
        "id": "-q2pz1pbpyro",
        "outputId": "04f31e38-7319-45b0-fd2d-47deab82779f"
      },
      "execution_count": null,
      "outputs": [
        {
          "output_type": "stream",
          "name": "stdout",
          "text": [
            "0.6145132278837939\n"
          ]
        }
      ]
    },
    {
      "cell_type": "code",
      "source": [
        "err = mean_squared_error(y_test,y_pred)\n",
        "print(err)\n",
        "print(np.sqrt(err))\n",
        "print(mean_absolute_error(y_test,y_pred))"
      ],
      "metadata": {
        "colab": {
          "base_uri": "https://localhost:8080/"
        },
        "id": "qZUUO7SjqImy",
        "outputId": "f55e3ee1-9670-452d-c3c0-3c9b291c89c0"
      },
      "execution_count": null,
      "outputs": [
        {
          "output_type": "stream",
          "name": "stdout",
          "text": [
            "35.244084079587005\n",
            "5.936672812239782\n",
            "4.869915057074124\n"
          ]
        }
      ]
    },
    {
      "cell_type": "code",
      "source": [
        "# BayesianRidge\n",
        "bayesian_ridge = BayesianRidge()\n",
        "bayesian_ridge.fit(x_train,y_train)\n",
        "y_pred = bayesian_ridge.predict(x_test)\n",
        "print(bayesian_ridge.score(x_test,y_test))"
      ],
      "metadata": {
        "colab": {
          "base_uri": "https://localhost:8080/"
        },
        "id": "VWr-kKJ4qiS-",
        "outputId": "23f77c2f-6c73-438d-cc93-83b5b5541ab9"
      },
      "execution_count": null,
      "outputs": [
        {
          "output_type": "stream",
          "name": "stdout",
          "text": [
            "0.6145131724140754\n"
          ]
        }
      ]
    },
    {
      "cell_type": "code",
      "source": [],
      "metadata": {
        "id": "_zAUhJXYqt7T"
      },
      "execution_count": null,
      "outputs": []
    },
    {
      "cell_type": "code",
      "source": [
        "# # Gamma Regressor\n",
        "# gamma_regressor = GammaRegressor()\n",
        "# gamma_regressor.fit(x_train,y_train)\n",
        "# y_pred = gamma_regressor.predict(x_test)\n",
        "# print(gamma_regressor.score(x_test,y_test))"
      ],
      "metadata": {
        "id": "nV3E1oRCqunE"
      },
      "execution_count": null,
      "outputs": []
    },
    {
      "cell_type": "code",
      "source": [],
      "metadata": {
        "id": "DQFimMG9qvW7"
      },
      "execution_count": null,
      "outputs": []
    },
    {
      "cell_type": "code",
      "source": [
        "# Huber Regressor\n",
        "huber_regressor = HuberRegressor()\n",
        "huber_regressor.fit(x_train,y_train)\n",
        "y_pred = huber_regressor.predict(x_test)\n",
        "print(huber_regressor.score(x_test,y_test))"
      ],
      "metadata": {
        "colab": {
          "base_uri": "https://localhost:8080/"
        },
        "id": "jaOfD58Eqvli",
        "outputId": "6897e316-028b-4816-c837-658fe12dffe9"
      },
      "execution_count": null,
      "outputs": [
        {
          "output_type": "stream",
          "name": "stdout",
          "text": [
            "0.38951332336402555\n"
          ]
        },
        {
          "output_type": "stream",
          "name": "stderr",
          "text": [
            "/usr/local/lib/python3.8/dist-packages/sklearn/linear_model/_huber.py:332: ConvergenceWarning: lbfgs failed to converge (status=1):\n",
            "STOP: TOTAL NO. of ITERATIONS REACHED LIMIT.\n",
            "\n",
            "Increase the number of iterations (max_iter) or scale the data as shown in:\n",
            "    https://scikit-learn.org/stable/modules/preprocessing.html\n",
            "  self.n_iter_ = _check_optimize_result(\"lbfgs\", opt_res, self.max_iter)\n"
          ]
        }
      ]
    },
    {
      "cell_type": "code",
      "source": [
        "err = mean_squared_error(y_test,y_pred)\n",
        "print(err)\n",
        "print(np.sqrt(err))\n",
        "print(mean_absolute_error(y_test,y_pred))"
      ],
      "metadata": {
        "colab": {
          "base_uri": "https://localhost:8080/"
        },
        "outputId": "25e0e222-d322-41d2-b23a-e136b5a7b6ef",
        "id": "5ZCaAEIGrsjp"
      },
      "execution_count": null,
      "outputs": [
        {
          "output_type": "stream",
          "name": "stdout",
          "text": [
            "55.8152583101862\n",
            "7.470961003123105\n",
            "5.8221296019583315\n"
          ]
        }
      ]
    },
    {
      "cell_type": "code",
      "source": [
        "# PassiveAgressiveRegressor\n",
        "passive_agressive_regressor = PassiveAggressiveRegressor()\n",
        "passive_agressive_regressor.fit(x_train,y_train)\n",
        "y_pred = passive_agressive_regressor.predict(x_test)\n",
        "print(passive_agressive_regressor.score(x_test,y_test))"
      ],
      "metadata": {
        "colab": {
          "base_uri": "https://localhost:8080/"
        },
        "id": "JNwBjZ4rqwmY",
        "outputId": "38679dcb-162d-4c5c-a980-2fdd6228bf87"
      },
      "execution_count": null,
      "outputs": [
        {
          "output_type": "stream",
          "name": "stdout",
          "text": [
            "-0.16531200269870383\n"
          ]
        }
      ]
    },
    {
      "cell_type": "code",
      "source": [
        "err = mean_squared_error(y_test,y_pred)\n",
        "print(err)\n",
        "print(np.sqrt(err))\n",
        "print(mean_absolute_error(y_test,y_pred))"
      ],
      "metadata": {
        "colab": {
          "base_uri": "https://localhost:8080/"
        },
        "outputId": "afd11f9a-5b7a-4b4a-8d30-eea2fd666027",
        "id": "I6_Ez8Y_sF6h"
      },
      "execution_count": null,
      "outputs": [
        {
          "output_type": "stream",
          "name": "stdout",
          "text": [
            "106.54153961393068\n",
            "10.321896124934153\n",
            "8.108365185511039\n"
          ]
        }
      ]
    },
    {
      "cell_type": "code",
      "source": [
        "# SGDR Regressor\n",
        "sgdr_regressor = SGDRegressor()\n",
        "sgdr_regressor.fit(x_train,y_train)\n",
        "y_pred = sgdr_regressor.predict(x_test)\n",
        "print(sgdr_regressor.score(x_test,y_test))"
      ],
      "metadata": {
        "colab": {
          "base_uri": "https://localhost:8080/"
        },
        "id": "04STbpELqxh8",
        "outputId": "ebf8e50f-40a5-4fa6-ed3e-0f1bdb8874a3"
      },
      "execution_count": null,
      "outputs": [
        {
          "output_type": "stream",
          "name": "stdout",
          "text": [
            "-9.864783408984005e+32\n"
          ]
        }
      ]
    },
    {
      "cell_type": "code",
      "source": [
        "err = mean_squared_error(y_test,y_pred)\n",
        "print(err)\n",
        "print(np.sqrt(err))\n",
        "print(mean_absolute_error(y_test,y_pred))"
      ],
      "metadata": {
        "colab": {
          "base_uri": "https://localhost:8080/"
        },
        "outputId": "ad4e12f1-770e-42d7-e350-be8b3138b532",
        "id": "CKjme5t-sYxU"
      },
      "execution_count": null,
      "outputs": [
        {
          "output_type": "stream",
          "name": "stdout",
          "text": [
            "9.019122860805702e+34\n",
            "3.003185452283242e+17\n",
            "2.984330978478436e+17\n"
          ]
        }
      ]
    },
    {
      "cell_type": "code",
      "source": [
        "# Tweedie_Regressor\n",
        "tweedie_regressor = TweedieRegressor()\n",
        "tweedie_regressor.fit(x_train,y_train)\n",
        "y_pred = tweedie_regressor.predict(x_test)\n",
        "print(tweedie_regressor.score(x_test,y_test))"
      ],
      "metadata": {
        "colab": {
          "base_uri": "https://localhost:8080/"
        },
        "id": "ZfJhCWPrqyfQ",
        "outputId": "83237f17-24d0-4c25-ae1e-e1de329f96fe"
      },
      "execution_count": null,
      "outputs": [
        {
          "output_type": "stream",
          "name": "stdout",
          "text": [
            "0.44129355934160275\n"
          ]
        },
        {
          "output_type": "stream",
          "name": "stderr",
          "text": [
            "/usr/local/lib/python3.8/dist-packages/sklearn/linear_model/_glm/glm.py:323: ConvergenceWarning: lbfgs failed to converge (status=1):\n",
            "STOP: TOTAL NO. of ITERATIONS REACHED LIMIT.\n",
            "\n",
            "Increase the number of iterations (max_iter) or scale the data as shown in:\n",
            "    https://scikit-learn.org/stable/modules/preprocessing.html\n",
            "  self.n_iter_ = _check_optimize_result(\"lbfgs\", opt_res)\n"
          ]
        }
      ]
    },
    {
      "cell_type": "code",
      "source": [
        "err = mean_squared_error(y_test,y_pred)\n",
        "print(err)\n",
        "print(np.sqrt(err))\n",
        "print(mean_absolute_error(y_test,y_pred))"
      ],
      "metadata": {
        "colab": {
          "base_uri": "https://localhost:8080/"
        },
        "outputId": "4b9a66d6-7deb-4958-a5ee-111ef6c23d0c",
        "id": "SC1QHac5stIa"
      },
      "execution_count": null,
      "outputs": [
        {
          "output_type": "stream",
          "name": "stdout",
          "text": [
            "51.08112183012963\n",
            "7.147105835940142\n",
            "5.777067424283961\n"
          ]
        }
      ]
    },
    {
      "cell_type": "code",
      "source": [
        "## Linear Discriminant Analysis\n",
        "linear_discriminant_analysis = LinearDiscriminantAnalysis()\n",
        "linear_discriminant_analysis.fit(x_train, y_train)\n",
        "y_pred = linear_discriminant_analysis.predict(x_test)\n",
        "print(linear_discriminant_analysis.score(x_test,y_test))"
      ],
      "metadata": {
        "colab": {
          "base_uri": "https://localhost:8080/",
          "height": 397
        },
        "id": "2ufokEGesuHM",
        "outputId": "5a4e5fcc-29c9-44a1-dafb-b37de3b3347b"
      },
      "execution_count": null,
      "outputs": [
        {
          "output_type": "error",
          "ename": "ValueError",
          "evalue": "ignored",
          "traceback": [
            "\u001b[0;31m---------------------------------------------------------------------------\u001b[0m",
            "\u001b[0;31mValueError\u001b[0m                                Traceback (most recent call last)",
            "\u001b[0;32m<ipython-input-39-34d3db957033>\u001b[0m in \u001b[0;36m<module>\u001b[0;34m\u001b[0m\n\u001b[1;32m      1\u001b[0m \u001b[0;31m## Linear Discriminant Analysis\u001b[0m\u001b[0;34m\u001b[0m\u001b[0;34m\u001b[0m\u001b[0;34m\u001b[0m\u001b[0m\n\u001b[1;32m      2\u001b[0m \u001b[0mlinear_discriminant_analysis\u001b[0m \u001b[0;34m=\u001b[0m \u001b[0mLinearDiscriminantAnalysis\u001b[0m\u001b[0;34m(\u001b[0m\u001b[0;34m)\u001b[0m\u001b[0;34m\u001b[0m\u001b[0;34m\u001b[0m\u001b[0m\n\u001b[0;32m----> 3\u001b[0;31m \u001b[0mlinear_discriminant_analysis\u001b[0m\u001b[0;34m.\u001b[0m\u001b[0mfit\u001b[0m\u001b[0;34m(\u001b[0m\u001b[0mx_train\u001b[0m\u001b[0;34m,\u001b[0m \u001b[0my_train\u001b[0m\u001b[0;34m)\u001b[0m\u001b[0;34m\u001b[0m\u001b[0;34m\u001b[0m\u001b[0m\n\u001b[0m\u001b[1;32m      4\u001b[0m \u001b[0my_pred\u001b[0m \u001b[0;34m=\u001b[0m \u001b[0mlinear_discriminant_analysis\u001b[0m\u001b[0;34m.\u001b[0m\u001b[0mpredict\u001b[0m\u001b[0;34m(\u001b[0m\u001b[0mx_test\u001b[0m\u001b[0;34m)\u001b[0m\u001b[0;34m\u001b[0m\u001b[0;34m\u001b[0m\u001b[0m\n\u001b[1;32m      5\u001b[0m \u001b[0mprint\u001b[0m\u001b[0;34m(\u001b[0m\u001b[0mlinear_discriminant_analysis\u001b[0m\u001b[0;34m.\u001b[0m\u001b[0mscore\u001b[0m\u001b[0;34m(\u001b[0m\u001b[0mx_test\u001b[0m\u001b[0;34m,\u001b[0m\u001b[0my_test\u001b[0m\u001b[0;34m)\u001b[0m\u001b[0;34m)\u001b[0m\u001b[0;34m\u001b[0m\u001b[0;34m\u001b[0m\u001b[0m\n",
            "\u001b[0;32m/usr/local/lib/python3.8/dist-packages/sklearn/discriminant_analysis.py\u001b[0m in \u001b[0;36mfit\u001b[0;34m(self, X, y)\u001b[0m\n\u001b[1;32m    545\u001b[0m             \u001b[0mX\u001b[0m\u001b[0;34m,\u001b[0m \u001b[0my\u001b[0m\u001b[0;34m,\u001b[0m \u001b[0mensure_min_samples\u001b[0m\u001b[0;34m=\u001b[0m\u001b[0;36m2\u001b[0m\u001b[0;34m,\u001b[0m \u001b[0mestimator\u001b[0m\u001b[0;34m=\u001b[0m\u001b[0mself\u001b[0m\u001b[0;34m,\u001b[0m \u001b[0mdtype\u001b[0m\u001b[0;34m=\u001b[0m\u001b[0;34m[\u001b[0m\u001b[0mnp\u001b[0m\u001b[0;34m.\u001b[0m\u001b[0mfloat64\u001b[0m\u001b[0;34m,\u001b[0m \u001b[0mnp\u001b[0m\u001b[0;34m.\u001b[0m\u001b[0mfloat32\u001b[0m\u001b[0;34m]\u001b[0m\u001b[0;34m\u001b[0m\u001b[0;34m\u001b[0m\u001b[0m\n\u001b[1;32m    546\u001b[0m         )\n\u001b[0;32m--> 547\u001b[0;31m         \u001b[0mself\u001b[0m\u001b[0;34m.\u001b[0m\u001b[0mclasses_\u001b[0m \u001b[0;34m=\u001b[0m \u001b[0munique_labels\u001b[0m\u001b[0;34m(\u001b[0m\u001b[0my\u001b[0m\u001b[0;34m)\u001b[0m\u001b[0;34m\u001b[0m\u001b[0;34m\u001b[0m\u001b[0m\n\u001b[0m\u001b[1;32m    548\u001b[0m         \u001b[0mn_samples\u001b[0m\u001b[0;34m,\u001b[0m \u001b[0m_\u001b[0m \u001b[0;34m=\u001b[0m \u001b[0mX\u001b[0m\u001b[0;34m.\u001b[0m\u001b[0mshape\u001b[0m\u001b[0;34m\u001b[0m\u001b[0;34m\u001b[0m\u001b[0m\n\u001b[1;32m    549\u001b[0m         \u001b[0mn_classes\u001b[0m \u001b[0;34m=\u001b[0m \u001b[0mlen\u001b[0m\u001b[0;34m(\u001b[0m\u001b[0mself\u001b[0m\u001b[0;34m.\u001b[0m\u001b[0mclasses_\u001b[0m\u001b[0;34m)\u001b[0m\u001b[0;34m\u001b[0m\u001b[0;34m\u001b[0m\u001b[0m\n",
            "\u001b[0;32m/usr/local/lib/python3.8/dist-packages/sklearn/utils/multiclass.py\u001b[0m in \u001b[0;36munique_labels\u001b[0;34m(*ys)\u001b[0m\n\u001b[1;32m     99\u001b[0m     \u001b[0m_unique_labels\u001b[0m \u001b[0;34m=\u001b[0m \u001b[0m_FN_UNIQUE_LABELS\u001b[0m\u001b[0;34m.\u001b[0m\u001b[0mget\u001b[0m\u001b[0;34m(\u001b[0m\u001b[0mlabel_type\u001b[0m\u001b[0;34m,\u001b[0m \u001b[0;32mNone\u001b[0m\u001b[0;34m)\u001b[0m\u001b[0;34m\u001b[0m\u001b[0;34m\u001b[0m\u001b[0m\n\u001b[1;32m    100\u001b[0m     \u001b[0;32mif\u001b[0m \u001b[0;32mnot\u001b[0m \u001b[0m_unique_labels\u001b[0m\u001b[0;34m:\u001b[0m\u001b[0;34m\u001b[0m\u001b[0;34m\u001b[0m\u001b[0m\n\u001b[0;32m--> 101\u001b[0;31m         \u001b[0;32mraise\u001b[0m \u001b[0mValueError\u001b[0m\u001b[0;34m(\u001b[0m\u001b[0;34m\"Unknown label type: %s\"\u001b[0m \u001b[0;34m%\u001b[0m \u001b[0mrepr\u001b[0m\u001b[0;34m(\u001b[0m\u001b[0mys\u001b[0m\u001b[0;34m)\u001b[0m\u001b[0;34m)\u001b[0m\u001b[0;34m\u001b[0m\u001b[0;34m\u001b[0m\u001b[0m\n\u001b[0m\u001b[1;32m    102\u001b[0m \u001b[0;34m\u001b[0m\u001b[0m\n\u001b[1;32m    103\u001b[0m     \u001b[0mys_labels\u001b[0m \u001b[0;34m=\u001b[0m \u001b[0mset\u001b[0m\u001b[0;34m(\u001b[0m\u001b[0mchain\u001b[0m\u001b[0;34m.\u001b[0m\u001b[0mfrom_iterable\u001b[0m\u001b[0;34m(\u001b[0m\u001b[0m_unique_labels\u001b[0m\u001b[0;34m(\u001b[0m\u001b[0my\u001b[0m\u001b[0;34m)\u001b[0m \u001b[0;32mfor\u001b[0m \u001b[0my\u001b[0m \u001b[0;32min\u001b[0m \u001b[0mys\u001b[0m\u001b[0;34m)\u001b[0m\u001b[0;34m)\u001b[0m\u001b[0;34m\u001b[0m\u001b[0;34m\u001b[0m\u001b[0m\n",
            "\u001b[0;31mValueError\u001b[0m: Unknown label type: (array([15.06666667, 13.72222222,  8.91666667, ..., -2.91666667,\n        5.68888889, 16.13888889]),)"
          ]
        }
      ]
    },
    {
      "cell_type": "code",
      "source": [],
      "metadata": {
        "id": "zR0tGkL5tJ9w"
      },
      "execution_count": null,
      "outputs": []
    }
  ]
}